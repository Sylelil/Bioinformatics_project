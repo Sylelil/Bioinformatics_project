{
 "cells": [
  {
   "cell_type": "code",
   "execution_count": null,
   "metadata": {
    "collapsed": true
   },
   "outputs": [],
   "source": [
    "import pandas as pd\n",
    "#import tensorflow as tf\n",
    "import os\n",
    "import sys\n",
    "from scipy import stat\n",
    "\n"
   ]
  },
  {
   "cell_type": "code",
   "execution_count": null,
   "outputs": [],
   "source": [
    "path_ge = \"C:\\\\Users\\\\rosee\\\\workspace_Polito\\\\git\\\\Bioinformatics_project\\\\assets\\\\final_genes\\\\\"\n",
    "path_example_file = \"C:\\\\Users\\\\rosee\\\\workspace_Polito\\\\git\\\\Bioinformatics_project\\\\assets\\\\final_genes\\\\0a94eecf-4db2-4846-8383-c83ff02e4a9f_1.txt\"\n",
    "\n",
    "# Number of samples:\n",
    "n_samples_0 = sum(1 for x in os.listdir(path_ge) if x.endswith(\"_0.txt\"))\n",
    "n_samples_1 = sum(1 for x in os.listdir(path_ge) if x.endswith(\"_1.txt\"))\n",
    "print(f'Tumor samples: {n_samples_1}\\nNormal samples: {n_samples_0}')\n",
    "\n",
    "# Number of features:\n",
    "with open(path_example_file) as f:\n",
    "    n_features = sum(1 for _ in f)\n",
    "print(f\"Number of features (genes): {n_features}\")\n",
    "\n",
    "# Read samples:\n",
    "df_0 = pd.DataFrame()\n",
    "df_1 = pd.DataFrame()\n",
    "i=0\n",
    "for file_name in os.listdir(path_ge):\n",
    "    file_path = os.path.join(path_ge,file_name)\n",
    "    with open(file_path) as f:\n",
    "        print(f\"Reading file {i}\")\n",
    "        patient_df = pd.read_csv(f, sep=\"\\t\", header=None, index_col=0, names=[file_name.replace(\".txt\",\"\")])\n",
    "        patient_df = pd.DataFrame.transpose(patient_df)\n",
    "        if file_name.endswith(\"_0.txt\"):\n",
    "            df_0 = df_0.append(patient_df)\n",
    "        else:\n",
    "            df_1 = df_1.append(patient_df)\n",
    "    i=i+1"
   ],
   "metadata": {
    "collapsed": false,
    "pycharm": {
     "name": "#%%\n"
    }
   }
  },
  {
   "cell_type": "code",
   "execution_count": null,
   "outputs": [],
   "source": [
    "print(df_0.head(10))\n",
    "print()\n",
    "print(df_1.head(10))\n",
    "print(df_1[:10][:10])\n"
   ],
   "metadata": {
    "collapsed": false,
    "pycharm": {
     "name": "#%%\n"
    }
   }
  },
  {
   "cell_type": "code",
   "execution_count": null,
   "outputs": [],
   "source": [],
   "metadata": {
    "collapsed": false,
    "pycharm": {
     "name": "#%%\n"
    }
   }
  }
 ],
 "metadata": {
  "kernelspec": {
   "display_name": "Python 3",
   "language": "python",
   "name": "python3"
  },
  "language_info": {
   "codemirror_mode": {
    "name": "ipython",
    "version": 2
   },
   "file_extension": ".py",
   "mimetype": "text/x-python",
   "name": "python",
   "nbconvert_exporter": "python",
   "pygments_lexer": "ipython2",
   "version": "2.7.6"
  }
 },
 "nbformat": 4,
 "nbformat_minor": 0
}